{
 "cells": [
  {
   "cell_type": "code",
   "execution_count": null,
   "id": "bcbf9ec8-0ba5-44d8-b2f8-d0aacfb0784c",
   "metadata": {},
   "outputs": [],
   "source": []
  },
  {
   "cell_type": "markdown",
   "id": "0f161b82-2646-457b-942c-3bf617212d0b",
   "metadata": {},
   "source": [
    "$$\\Psi(x, y, 0) = Ae^{-ax^2}\\cdot e^{-ay^2}$$\n",
    "$$\\Psi(x,y,t)=A\\frac{1}{\\sqrt{1+\\frac{2i\\hbar at}{m}}}\\textrm{exp}\\left[-\\frac{ax^2}{1+\\frac{2i\\hbar at}{m}}\\right]\\cdot\\frac{1}{\\sqrt{1+\\frac{2i\\hbar at}{m}}}\\textrm{exp}\\left[-\\frac{ay^2}{1+\\frac{2i\\hbar at}{m}}\\right]$$\n",
    "source: https://www.asc.ohio-state.edu/jayaprakash.1/631/freegauss.pdf"
   ]
  },
  {
   "cell_type": "code",
   "execution_count": null,
   "id": "9ea8dd54-b4af-461b-a5d5-00af1c17cd26",
   "metadata": {},
   "outputs": [],
   "source": [
    "h = 1\n",
    "k0 = 1 \n",
    "A = 1 #temp\n",
    "E = 1\n",
    "m = 1\n",
    "\n",
    "Lx = 1\n",
    "Ly = 1\n",
    "x0 = 0\n",
    "y0 = 0\n",
    "sx = 0.1\n",
    "sy = 0.1\n",
    "k0x = 1\n",
    "k0y = 1\n",
    "a = 1\n",
    "\n",
    "resolution = 50\n",
    "frn = 200\n",
    "fps = 250\n",
    "\n",
    "def Psi_Gauss (x, y, t):\n",
    "    Psi = A/(1+2*1j*h*a*t/m)*np.exp(-(a/(1+2*1j*h*a*t/m)*(x**2+y**2)))\n",
    "    #return np.real(Psi)\n",
    "    return np.abs(Psi)**2\n",
    "    \n",
    "x = np.linspace(-Lx,Lx,resolution)\n",
    "y = np.linspace(-Ly,Ly,resolution)\n",
    "X, Y = np.meshgrid(x, y)\n",
    "Z = np.zeros((resolution, resolution, frn))\n",
    "for i in range(frn):\n",
    "    Z[:,:, i] = Psi_Gauss(X,Y,0.01*i)\n",
    "\n",
    "def change_plot(frame_number, Z, plot):\n",
    "    plot[0].remove()\n",
    "    plot[0] = ax.plot_surface(X, Y, Z[:, :, frame_number], cmap=\"magma\")\n",
    "\n",
    "fig = plt.figure(figsize=(10,10))\n",
    "ax = fig.add_subplot(projection='3d')\n",
    "#ax.text2D(0.42, 0.67, r\"$\\mathrm{\\psi_{n_{x,y}}(x,y,t)=\\sqrt{\\frac{4}{L_xL_y}}sin\\left(\\frac{n_x\\pi}{L_x}x\\right)sin\\left(\\frac{n_y\\pi}{L_y}y\\right)\\cdot e^{-i\\frac{E_{x,y}}{\\hbar}t}}$\",\n",
    "         # transform=ax.transAxes, fontsize = 13, rotation = -15, color = 'grey').set_zorder(1)\n",
    "#ax.text2D(0.4, 0.63, \"  $n_x={}$\\n   $n_y={}$\\n     $C={}^T$\".format(nx,ny,C),\n",
    "          #transform=ax.transAxes, fontsize = 14, rotation = -15, color = 'grey').set_zorder(1)\n",
    "ax.set_zlim(np.min(Z),np.max(Z))\n",
    "ax.set_xlabel('x', fontsize = 16)\n",
    "ax.set_ylabel('y', fontsize = 16)\n",
    "ax.set_zlabel('$Re\\Psi(\\overline{r},t)$', fontsize = 16)\n",
    "#fig.suptitle(r\"$\\mid \\Psi(\\overline{r},t)\\mid^2$\", fontsize = 25)\n",
    "plot = [ax.plot_surface(X, Y, Z[:,:,0], color='blue')]\n",
    "\n",
    "\n",
    "ani = anim.FuncAnimation(fig, change_plot, frn, fargs=(Z, plot), interval=1000/fps)\n",
    "#writervideo = anim.FFMpegWriter(fps=60)\n",
    "#ani.save('2dwell_alpha.mp4', writer=writervideo)\n",
    "HTML(ani.to_jshtml())"
   ]
  },
  {
   "cell_type": "code",
   "execution_count": null,
   "id": "378138ab-e858-4e67-97f5-498fbdb3a92d",
   "metadata": {
    "tags": []
   },
   "outputs": [],
   "source": []
  }
 ],
 "metadata": {
  "kernelspec": {
   "display_name": "Python 3 (ipykernel)",
   "language": "python",
   "name": "python3"
  },
  "language_info": {
   "codemirror_mode": {
    "name": "ipython",
    "version": 3
   },
   "file_extension": ".py",
   "mimetype": "text/x-python",
   "name": "python",
   "nbconvert_exporter": "python",
   "pygments_lexer": "ipython3",
   "version": "3.9.7"
  }
 },
 "nbformat": 4,
 "nbformat_minor": 5
}
