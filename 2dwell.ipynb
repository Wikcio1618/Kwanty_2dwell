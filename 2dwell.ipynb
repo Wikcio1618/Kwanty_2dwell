{
 "cells": [
  {
   "cell_type": "code",
   "execution_count": null,
   "id": "e9777365-ced8-462a-b8ef-6e6af970f7b2",
   "metadata": {},
   "outputs": [],
   "source": [
    "from matplotlib import pyplot as plt\n",
    "import numpy as np\n",
    "from mpl_toolkits.mplot3d import Axes3D\n",
    "import matplotlib.animation as anim\n",
    "from IPython.core.display import HTML\n",
    "from mpl_toolkits import mplot3d\n",
    "plt.rcParams[\"figure.autolayout\"] = True"
   ]
  },
  {
   "cell_type": "markdown",
   "id": "d451c7d9-7d25-44bf-ba02-062e13822c6a",
   "metadata": {},
   "source": [
    "$\\psi_{n_{x,y}}(x,y,t)=\\sqrt{\\frac{4}{L_xL_y}}\\mathrm{sin}\\left(\\frac{n_x\\pi}{L_x}x\\right)\\mathrm{sin}\\left(\\frac{n_y\\pi}{L_y}y\\right)\\cdot e^{-i\\frac{E_{x,y}}{\\hbar}t}$ \\\n",
    "$\\Psi(x,y,t)=\\sum C_{n_{x,y}}\\psi_{n_{x,y}}$"
   ]
  },
  {
   "cell_type": "code",
   "execution_count": null,
   "id": "c2c3ac4f-d140-44c8-9bde-c0c88709b84f",
   "metadata": {
    "tags": []
   },
   "outputs": [],
   "source": [
    "plt.rcParams[\"figure.figsize\"] = [7.50, 3.50]\n",
    "plt.rcParams[\"figure.autolayout\"] = True\n",
    "plt.rcParams['animation.embed_limit'] = 2**128\n",
    "plt.rcParams['text.usetex'] = False\n",
    "\n",
    "Lx = 1\n",
    "Ly = 1\n",
    "nx = [1,2,5,2,2]\n",
    "ny = [2,3,3,2,1]\n",
    "C = [2,1,1,1,1]\n",
    "h = 1\n",
    "#E = np.sqrt((kx**4+ky**4)*h**4/4*m**2)\n",
    "A = np.sqrt(4/Lx/Ly)\n",
    "m = 1\n",
    "\n",
    "resolution = 50\n",
    "frn = 400\n",
    "fps = 250\n",
    "\n",
    "\n",
    "def psi(x, y, n1, n2, t):\n",
    "    return A * np.sin(n1*np.pi/Lx*x) * np.sin(n2*np.pi/Ly*y) * np.exp(-1j*h*np.pi**2/2/m*(n1**2/Lx**2+n2**2/Ly**2)*t)\n",
    "\n",
    "def Psi(x, y, t):\n",
    "    Psif = 0 #C[0]*psi(x, y, nx[0], ny[0], t) + C[1]*psi(x, y, nx[1], ny[1], t)\n",
    "    for i in range(len(nx)):                                                               \n",
    "        Psif += C[i]*psi(x, y, nx[i], ny[i], t) \n",
    "    return Psif\n",
    "\n",
    "def prob(x,y,t):\n",
    "    return np.absolute(Psi(x,y,t))**2\n",
    "\n",
    "\n",
    "\n",
    "\n",
    "x = np.linspace(0,Lx,resolution)\n",
    "y = np.linspace(0,Ly,resolution)\n",
    "X, Y = np.meshgrid(x, y)\n",
    "Z = np.zeros((resolution, resolution, frn))\n",
    "for i in range(frn):\n",
    "    Z[:,:, i] = prob(X,Y,0.001*i)\n",
    "\n",
    "def change_plot(frame_number, Z, plot):\n",
    "    X, Y = np.meshgrid(x, y)\n",
    "    plot[0].remove()\n",
    "    plot[0] = ax.plot_surface(X, Y, Z[:, :, frame_number], cmap=\"magma\")\n",
    "\n",
    "fig = plt.figure(figsize=(10,10))\n",
    "ax = fig.add_subplot(projection='3d')\n",
    "ax.text2D(0.42, 0.67, r\"$\\mathrm{\\psi_{n_{x,y}}(x,y,t)=\\sqrt{\\frac{4}{L_xL_y}}sin\\left(\\frac{n_x\\pi}{L_x}x\\right)sin\\left(\\frac{n_y\\pi}{L_y}y\\right)\\cdot e^{-i\\frac{E_{x,y}}{\\hbar}t}}$\",\n",
    "          transform=ax.transAxes, fontsize = 13, rotation = -15, color = 'grey').set_zorder(1)\n",
    "ax.text2D(0.4, 0.63, \"  $n_x={}$\\n   $n_y={}$\\n     $C={}^T$\".format(nx,ny,C),\n",
    "          transform=ax.transAxes, fontsize = 14, rotation = -15, color = 'grey').set_zorder(1)\n",
    "ax.set_zlim(np.min(Z),np.max(Z))\n",
    "ax.set_xlabel('x', fontsize = 16)\n",
    "ax.set_ylabel('y', fontsize = 16)\n",
    "ax.set_zlabel('$\\mid\\Psi(\\overline{r},t)\\mid^2$', fontsize = 16)\n",
    "fig.suptitle(r\"$\\mid \\Psi(\\overline{r},t)\\mid^2$\", fontsize = 25)\n",
    "plot = [ax.plot_surface(X, Y, Z[:,:,0], color='blue')]\n",
    "\n",
    "\n",
    "ani = anim.FuncAnimation(fig, change_plot, frn, fargs=(Z, plot), interval=1000/fps)\n",
    "writervideo = anim.FFMpegWriter(fps=60)\n",
    "ani.save('2dwell_alpha.mp4', writer=writervideo)\n",
    "HTML(ani.to_jshtml())"
   ]
  },
  {
   "cell_type": "code",
   "execution_count": null,
   "id": "d80e361d-dde3-4f9f-be03-20d105317ed2",
   "metadata": {},
   "outputs": [],
   "source": []
  }
 ],
 "metadata": {
  "kernelspec": {
   "display_name": "Python 3 (ipykernel)",
   "language": "python",
   "name": "python3"
  },
  "language_info": {
   "codemirror_mode": {
    "name": "ipython",
    "version": 3
   },
   "file_extension": ".py",
   "mimetype": "text/x-python",
   "name": "python",
   "nbconvert_exporter": "python",
   "pygments_lexer": "ipython3",
   "version": "3.9.7"
  }
 },
 "nbformat": 4,
 "nbformat_minor": 5
}
